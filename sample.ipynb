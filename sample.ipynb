{
 "cells": [
  {
   "cell_type": "code",
   "execution_count": 2,
   "metadata": {},
   "outputs": [
    {
     "name": "stderr",
     "output_type": "stream",
     "text": [
      "C:\\Users\\mathe\\AppData\\Roaming\\Python\\Python311\\site-packages\\deap\\creator.py:138: RuntimeWarning: A class named 'FitnessMult' has already been created and it will be overwritten. Consider deleting previous creation of that class or rename it.\n",
      "  warnings.warn(\"A class named '{0}' has already been created and it \"\n",
      "C:\\Users\\mathe\\AppData\\Roaming\\Python\\Python311\\site-packages\\deap\\creator.py:138: RuntimeWarning: A class named 'Individual' has already been created and it will be overwritten. Consider deleting previous creation of that class or rename it.\n",
      "  warnings.warn(\"A class named '{0}' has already been created and it \"\n"
     ]
    },
    {
     "name": "stdout",
     "output_type": "stream",
     "text": [
      "gen\tnevals\n",
      "0  \t100   \n"
     ]
    },
    {
     "ename": "KeyboardInterrupt",
     "evalue": "",
     "output_type": "error",
     "traceback": [
      "\u001b[1;31m---------------------------------------------------------------------------\u001b[0m",
      "\u001b[1;31mKeyboardInterrupt\u001b[0m                         Traceback (most recent call last)",
      "Cell \u001b[1;32mIn[2], line 23\u001b[0m\n\u001b[0;32m     20\u001b[0m pool \u001b[39m=\u001b[39m poolGeneration(nr_generation \u001b[39m=\u001b[39m \u001b[39m20\u001b[39m)\n\u001b[0;32m     22\u001b[0m \u001b[39m#Generete bags\u001b[39;00m\n\u001b[1;32m---> 23\u001b[0m pool\u001b[39m.\u001b[39;49mgenerate(X_train, y_train, X_test, y_test, \u001b[39m20\u001b[39;49m)\n\u001b[0;32m     25\u001b[0m \u001b[39m#List of generated bags\u001b[39;00m\n\u001b[0;32m     26\u001b[0m bags \u001b[39m=\u001b[39m pool\u001b[39m.\u001b[39mget_bags()\n",
      "File \u001b[1;32md:\\documentos\\Doutorado\\Codigos\\_PGCDS\\pool_generation.py:591\u001b[0m, in \u001b[0;36mpoolGeneration.generate\u001b[1;34m(self, X_train, y_train, X_val, y_val, iteration)\u001b[0m\n\u001b[0;32m    589\u001b[0m toolbox\u001b[39m.\u001b[39mregister(\u001b[39m\"\u001b[39m\u001b[39mmutate\u001b[39m\u001b[39m\"\u001b[39m, \u001b[39mself\u001b[39m\u001b[39m.\u001b[39mmutation)\n\u001b[0;32m    590\u001b[0m toolbox\u001b[39m.\u001b[39mregister(\u001b[39m\"\u001b[39m\u001b[39mselect\u001b[39m\u001b[39m\"\u001b[39m, tools\u001b[39m.\u001b[39mselNSGA2)\n\u001b[1;32m--> 591\u001b[0m \u001b[39mself\u001b[39m\u001b[39m.\u001b[39mpop \u001b[39m=\u001b[39m algorithms\u001b[39m.\u001b[39;49meaMuPlusLambda(\n\u001b[0;32m    592\u001b[0m     \u001b[39mself\u001b[39;49m\u001b[39m.\u001b[39;49mpop,\n\u001b[0;32m    593\u001b[0m     toolbox,\n\u001b[0;32m    594\u001b[0m     \u001b[39mself\u001b[39;49m\u001b[39m.\u001b[39;49mnr_child,\n\u001b[0;32m    595\u001b[0m     \u001b[39mself\u001b[39;49m\u001b[39m.\u001b[39;49mnr_individual,\n\u001b[0;32m    596\u001b[0m     \u001b[39mself\u001b[39;49m\u001b[39m.\u001b[39;49mproba_crossover,\n\u001b[0;32m    597\u001b[0m     \u001b[39mself\u001b[39;49m\u001b[39m.\u001b[39;49mproba_mutation,\n\u001b[0;32m    598\u001b[0m     \u001b[39mself\u001b[39;49m\u001b[39m.\u001b[39;49mnr_generation,\n\u001b[0;32m    599\u001b[0m     generation_function\u001b[39m=\u001b[39;49m\u001b[39mself\u001b[39;49m\u001b[39m.\u001b[39;49mthe_function,\n\u001b[0;32m    600\u001b[0m )\n",
      "File \u001b[1;32m~\\AppData\\Roaming\\Python\\Python311\\site-packages\\deap\\algorithms.py:316\u001b[0m, in \u001b[0;36meaMuPlusLambda\u001b[1;34m(population, toolbox, mu, lambda_, cxpb, mutpb, ngen, stats, halloffame, verbose, generation_function, popu)\u001b[0m\n\u001b[0;32m    313\u001b[0m \u001b[39m# Begin the generational process\u001b[39;00m\n\u001b[0;32m    314\u001b[0m \u001b[39mfor\u001b[39;00m gen \u001b[39min\u001b[39;00m \u001b[39mrange\u001b[39m(\u001b[39m1\u001b[39m, ngen \u001b[39m+\u001b[39m \u001b[39m1\u001b[39m):\n\u001b[0;32m    315\u001b[0m     \u001b[39m# Vary the population\u001b[39;00m\n\u001b[1;32m--> 316\u001b[0m     offspring \u001b[39m=\u001b[39m varOr(population, toolbox, lambda_, cxpb, mutpb)\n\u001b[0;32m    318\u001b[0m     \u001b[39m# Evaluate the individuals with an invalid fitness\u001b[39;00m\n\u001b[0;32m    319\u001b[0m     invalid_ind \u001b[39m=\u001b[39m [ind \u001b[39mfor\u001b[39;00m ind \u001b[39min\u001b[39;00m offspring \u001b[39mif\u001b[39;00m \u001b[39mnot\u001b[39;00m ind\u001b[39m.\u001b[39mfitness\u001b[39m.\u001b[39mvalid]\n",
      "File \u001b[1;32m~\\AppData\\Roaming\\Python\\Python311\\site-packages\\deap\\algorithms.py:234\u001b[0m, in \u001b[0;36mvarOr\u001b[1;34m(population, toolbox, lambda_, cxpb, mutpb)\u001b[0m\n\u001b[0;32m    232\u001b[0m \u001b[39mif\u001b[39;00m op_choice \u001b[39m<\u001b[39m cxpb:            \u001b[39m# Apply crossover\u001b[39;00m\n\u001b[0;32m    233\u001b[0m     ind1, ind2 \u001b[39m=\u001b[39m \u001b[39mlist\u001b[39m(\u001b[39mmap\u001b[39m(toolbox\u001b[39m.\u001b[39mclone, random\u001b[39m.\u001b[39msample(population, \u001b[39m2\u001b[39m)))\n\u001b[1;32m--> 234\u001b[0m     ind1, ind2 \u001b[39m=\u001b[39m toolbox\u001b[39m.\u001b[39;49mmate(ind1, ind2)\n\u001b[0;32m    235\u001b[0m     \u001b[39mdel\u001b[39;00m ind1\u001b[39m.\u001b[39mfitness\u001b[39m.\u001b[39mvalues\n\u001b[0;32m    236\u001b[0m     offspring\u001b[39m.\u001b[39mappend(ind1)\n",
      "File \u001b[1;32md:\\documentos\\Doutorado\\Codigos\\_PGCDS\\pool_generation.py:316\u001b[0m, in \u001b[0;36mpoolGeneration.crossover\u001b[1;34m(self, ind1, ind2)\u001b[0m\n\u001b[0;32m    314\u001b[0m     \u001b[39mif\u001b[39;00m \u001b[39mself\u001b[39m\u001b[39m.\u001b[39mcont_crossover \u001b[39m==\u001b[39m \u001b[39mself\u001b[39m\u001b[39m.\u001b[39mnr_individual \u001b[39m+\u001b[39m \u001b[39m1\u001b[39m:\n\u001b[0;32m    315\u001b[0m         \u001b[39mself\u001b[39m\u001b[39m.\u001b[39mcont_crossover \u001b[39m=\u001b[39m \u001b[39m1\u001b[39m\n\u001b[1;32m--> 316\u001b[0m         \u001b[39mself\u001b[39;49m\u001b[39m.\u001b[39;49mget_complexity(first_evaluate\u001b[39m=\u001b[39;49m\u001b[39mFalse\u001b[39;49;00m, population\u001b[39m=\u001b[39;49m\u001b[39mNone\u001b[39;49;00m)\n\u001b[0;32m    318\u001b[0m \u001b[39mreturn\u001b[39;00m creator\u001b[39m.\u001b[39mIndividual(ind1), creator\u001b[39m.\u001b[39mIndividual(ind2)\n",
      "File \u001b[1;32md:\\documentos\\Doutorado\\Codigos\\_PGCDS\\pool_generation.py:197\u001b[0m, in \u001b[0;36mpoolGeneration.get_complexity\u001b[1;34m(self, first_evaluate, population)\u001b[0m\n\u001b[0;32m    195\u001b[0m r \u001b[39m=\u001b[39m []\n\u001b[0;32m    196\u001b[0m \u001b[39mfor\u001b[39;00m j \u001b[39min\u001b[39;00m \u001b[39mrange\u001b[39m(\u001b[39m100\u001b[39m, \u001b[39mself\u001b[39m\u001b[39m.\u001b[39mnr_individual \u001b[39m+\u001b[39m \u001b[39m100\u001b[39m):\n\u001b[1;32m--> 197\u001b[0m     r\u001b[39m.\u001b[39mappend(\u001b[39mself\u001b[39;49m\u001b[39m.\u001b[39;49mparallel_distance2(j, \u001b[39mself\u001b[39;49m\u001b[39m.\u001b[39;49mbags, \u001b[39mself\u001b[39;49m\u001b[39m.\u001b[39;49mgroup, \u001b[39mself\u001b[39;49m\u001b[39m.\u001b[39;49mtypes))\n\u001b[0;32m    199\u001b[0m c, score, pred, pool \u001b[39m=\u001b[39m \u001b[39mzip\u001b[39m(\u001b[39m*\u001b[39mr)\n\u001b[0;32m    200\u001b[0m \u001b[39mself\u001b[39m\u001b[39m.\u001b[39mc \u001b[39m=\u001b[39m c\n",
      "File \u001b[1;32md:\\documentos\\Doutorado\\Codigos\\_PGCDS\\pool_generation.py:240\u001b[0m, in \u001b[0;36mpoolGeneration.parallel_distance2\u001b[1;34m(self, i, bags, group, types)\u001b[0m\n\u001b[0;32m    238\u001b[0m indx_bag1 \u001b[39m=\u001b[39m bags[\u001b[39m\"\u001b[39m\u001b[39minst\u001b[39m\u001b[39m\"\u001b[39m][i]\n\u001b[0;32m    239\u001b[0m X_bag, y_bag \u001b[39m=\u001b[39m \u001b[39mself\u001b[39m\u001b[39m.\u001b[39mbuild_bags(indx_bag1)\n\u001b[1;32m--> 240\u001b[0m cpx \u001b[39m=\u001b[39m Cpx\u001b[39m.\u001b[39;49mcomplexity_data3(X_bag, y_bag, group, types)\n\u001b[0;32m    242\u001b[0m \u001b[39mif\u001b[39;00m \u001b[39mself\u001b[39m\u001b[39m.\u001b[39mclassifier \u001b[39m==\u001b[39m \u001b[39m\"\u001b[39m\u001b[39mperc\u001b[39m\u001b[39m\"\u001b[39m:\n\u001b[0;32m    243\u001b[0m     estimator, score, pred \u001b[39m=\u001b[39m Cpx\u001b[39m.\u001b[39mbiuld_classifier(\n\u001b[0;32m    244\u001b[0m         X_bag, y_bag, X_bag, y_bag, \u001b[39mself\u001b[39m\u001b[39m.\u001b[39mX_val, \u001b[39mself\u001b[39m\u001b[39m.\u001b[39my_val\n\u001b[0;32m    245\u001b[0m     )\n",
      "File \u001b[1;32md:\\documentos\\Doutorado\\Codigos\\_PGCDS\\Cpx.py:121\u001b[0m, in \u001b[0;36mcomplexity_data3\u001b[1;34m(X_data, y_data, group, types)\u001b[0m\n\u001b[0;32m    119\u001b[0m     \u001b[39mcomplex\u001b[39m \u001b[39m=\u001b[39m np\u001b[39m.\u001b[39mappend(\u001b[39mcomplex\u001b[39m, over[\u001b[39m0\u001b[39m])\n\u001b[0;32m    120\u001b[0m \u001b[39mif\u001b[39;00m group[i] \u001b[39m==\u001b[39m \u001b[39m\"\u001b[39m\u001b[39mneighborhood\u001b[39m\u001b[39m\"\u001b[39m:\n\u001b[1;32m--> 121\u001b[0m     nei \u001b[39m=\u001b[39m ecol\u001b[39m.\u001b[39;49mneighborhood(dfx, dfy, measures\u001b[39m=\u001b[39;49mtypes[i],summary\u001b[39m=\u001b[39;49m\u001b[39m'\u001b[39;49m\u001b[39mmean\u001b[39;49m\u001b[39m'\u001b[39;49m)\n\u001b[0;32m    122\u001b[0m     nei \u001b[39m=\u001b[39m np\u001b[39m.\u001b[39masarray(nei)\n\u001b[0;32m    123\u001b[0m     \u001b[39mcomplex\u001b[39m \u001b[39m=\u001b[39m np\u001b[39m.\u001b[39mappend(\u001b[39mcomplex\u001b[39m, nei[\u001b[39m0\u001b[39m])\n",
      "File \u001b[1;32m~\\AppData\\Roaming\\Python\\Python311\\site-packages\\rpy2\\robjects\\functions.py:204\u001b[0m, in \u001b[0;36mSignatureTranslatedFunction.__call__\u001b[1;34m(self, *args, **kwargs)\u001b[0m\n\u001b[0;32m    202\u001b[0m         v \u001b[39m=\u001b[39m kwargs\u001b[39m.\u001b[39mpop(k)\n\u001b[0;32m    203\u001b[0m         kwargs[r_k] \u001b[39m=\u001b[39m v\n\u001b[1;32m--> 204\u001b[0m \u001b[39mreturn\u001b[39;00m (\u001b[39msuper\u001b[39;49m(SignatureTranslatedFunction, \u001b[39mself\u001b[39;49m)\n\u001b[0;32m    205\u001b[0m         \u001b[39m.\u001b[39;49m\u001b[39m__call__\u001b[39;49m(\u001b[39m*\u001b[39;49margs, \u001b[39m*\u001b[39;49m\u001b[39m*\u001b[39;49mkwargs))\n",
      "File \u001b[1;32m~\\AppData\\Roaming\\Python\\Python311\\site-packages\\rpy2\\robjects\\functions.py:119\u001b[0m, in \u001b[0;36mFunction.__call__\u001b[1;34m(self, *args, **kwargs)\u001b[0m\n\u001b[0;32m    117\u001b[0m \u001b[39mdef\u001b[39;00m \u001b[39m__call__\u001b[39m(\u001b[39mself\u001b[39m, \u001b[39m*\u001b[39margs, \u001b[39m*\u001b[39m\u001b[39m*\u001b[39mkwargs):\n\u001b[0;32m    118\u001b[0m     cv \u001b[39m=\u001b[39m conversion\u001b[39m.\u001b[39mget_conversion()\n\u001b[1;32m--> 119\u001b[0m     new_args \u001b[39m=\u001b[39m [cv\u001b[39m.\u001b[39;49mpy2rpy(a) \u001b[39mfor\u001b[39;49;00m a \u001b[39min\u001b[39;49;00m args]\n\u001b[0;32m    120\u001b[0m     new_kwargs \u001b[39m=\u001b[39m {}\n\u001b[0;32m    121\u001b[0m     \u001b[39mfor\u001b[39;00m k, v \u001b[39min\u001b[39;00m kwargs\u001b[39m.\u001b[39mitems():\n\u001b[0;32m    122\u001b[0m         \u001b[39m# TODO: shouldn't this be handled by the conversion itself ?\u001b[39;00m\n",
      "File \u001b[1;32m~\\AppData\\Roaming\\Python\\Python311\\site-packages\\rpy2\\robjects\\functions.py:119\u001b[0m, in \u001b[0;36m<listcomp>\u001b[1;34m(.0)\u001b[0m\n\u001b[0;32m    117\u001b[0m \u001b[39mdef\u001b[39;00m \u001b[39m__call__\u001b[39m(\u001b[39mself\u001b[39m, \u001b[39m*\u001b[39margs, \u001b[39m*\u001b[39m\u001b[39m*\u001b[39mkwargs):\n\u001b[0;32m    118\u001b[0m     cv \u001b[39m=\u001b[39m conversion\u001b[39m.\u001b[39mget_conversion()\n\u001b[1;32m--> 119\u001b[0m     new_args \u001b[39m=\u001b[39m [cv\u001b[39m.\u001b[39;49mpy2rpy(a) \u001b[39mfor\u001b[39;00m a \u001b[39min\u001b[39;00m args]\n\u001b[0;32m    120\u001b[0m     new_kwargs \u001b[39m=\u001b[39m {}\n\u001b[0;32m    121\u001b[0m     \u001b[39mfor\u001b[39;00m k, v \u001b[39min\u001b[39;00m kwargs\u001b[39m.\u001b[39mitems():\n\u001b[0;32m    122\u001b[0m         \u001b[39m# TODO: shouldn't this be handled by the conversion itself ?\u001b[39;00m\n",
      "File \u001b[1;32mc:\\Program Files\\Python311\\Lib\\functools.py:909\u001b[0m, in \u001b[0;36msingledispatch.<locals>.wrapper\u001b[1;34m(*args, **kw)\u001b[0m\n\u001b[0;32m    905\u001b[0m \u001b[39mif\u001b[39;00m \u001b[39mnot\u001b[39;00m args:\n\u001b[0;32m    906\u001b[0m     \u001b[39mraise\u001b[39;00m \u001b[39mTypeError\u001b[39;00m(\u001b[39mf\u001b[39m\u001b[39m'\u001b[39m\u001b[39m{\u001b[39;00mfuncname\u001b[39m}\u001b[39;00m\u001b[39m requires at least \u001b[39m\u001b[39m'\u001b[39m\n\u001b[0;32m    907\u001b[0m                     \u001b[39m'\u001b[39m\u001b[39m1 positional argument\u001b[39m\u001b[39m'\u001b[39m)\n\u001b[1;32m--> 909\u001b[0m \u001b[39mreturn\u001b[39;00m dispatch(args[\u001b[39m0\u001b[39;49m]\u001b[39m.\u001b[39;49m\u001b[39m__class__\u001b[39;49m)(\u001b[39m*\u001b[39;49margs, \u001b[39m*\u001b[39;49m\u001b[39m*\u001b[39;49mkw)\n",
      "File \u001b[1;32m~\\AppData\\Roaming\\Python\\Python311\\site-packages\\rpy2\\robjects\\pandas2ri.py:63\u001b[0m, in \u001b[0;36mpy2rpy_pandasdataframe\u001b[1;34m(obj)\u001b[0m\n\u001b[0;32m     61\u001b[0m \u001b[39mfor\u001b[39;00m name, values \u001b[39min\u001b[39;00m obj\u001b[39m.\u001b[39mitems():\n\u001b[0;32m     62\u001b[0m     \u001b[39mtry\u001b[39;00m:\n\u001b[1;32m---> 63\u001b[0m         od[name] \u001b[39m=\u001b[39m conversion\u001b[39m.\u001b[39;49mconverter_ctx\u001b[39m.\u001b[39;49mget()\u001b[39m.\u001b[39;49mpy2rpy(values)\n\u001b[0;32m     64\u001b[0m     \u001b[39mexcept\u001b[39;00m \u001b[39mException\u001b[39;00m \u001b[39mas\u001b[39;00m e:\n\u001b[0;32m     65\u001b[0m         warnings\u001b[39m.\u001b[39mwarn(\u001b[39m'\u001b[39m\u001b[39mError while trying to convert \u001b[39m\u001b[39m'\u001b[39m\n\u001b[0;32m     66\u001b[0m                       \u001b[39m'\u001b[39m\u001b[39mthe column \u001b[39m\u001b[39m\"\u001b[39m\u001b[39m%s\u001b[39;00m\u001b[39m\"\u001b[39m\u001b[39m. Fall back to string conversion. \u001b[39m\u001b[39m'\u001b[39m\n\u001b[0;32m     67\u001b[0m                       \u001b[39m'\u001b[39m\u001b[39mThe error is: \u001b[39m\u001b[39m%s\u001b[39;00m\u001b[39m'\u001b[39m\n\u001b[0;32m     68\u001b[0m                       \u001b[39m%\u001b[39m (name, \u001b[39mstr\u001b[39m(e)))\n",
      "File \u001b[1;32mc:\\Program Files\\Python311\\Lib\\functools.py:909\u001b[0m, in \u001b[0;36msingledispatch.<locals>.wrapper\u001b[1;34m(*args, **kw)\u001b[0m\n\u001b[0;32m    905\u001b[0m \u001b[39mif\u001b[39;00m \u001b[39mnot\u001b[39;00m args:\n\u001b[0;32m    906\u001b[0m     \u001b[39mraise\u001b[39;00m \u001b[39mTypeError\u001b[39;00m(\u001b[39mf\u001b[39m\u001b[39m'\u001b[39m\u001b[39m{\u001b[39;00mfuncname\u001b[39m}\u001b[39;00m\u001b[39m requires at least \u001b[39m\u001b[39m'\u001b[39m\n\u001b[0;32m    907\u001b[0m                     \u001b[39m'\u001b[39m\u001b[39m1 positional argument\u001b[39m\u001b[39m'\u001b[39m)\n\u001b[1;32m--> 909\u001b[0m \u001b[39mreturn\u001b[39;00m dispatch(args[\u001b[39m0\u001b[39;49m]\u001b[39m.\u001b[39;49m\u001b[39m__class__\u001b[39;49m)(\u001b[39m*\u001b[39;49margs, \u001b[39m*\u001b[39;49m\u001b[39m*\u001b[39;49mkw)\n",
      "File \u001b[1;32m~\\AppData\\Roaming\\Python\\Python311\\site-packages\\rpy2\\robjects\\pandas2ri.py:219\u001b[0m, in \u001b[0;36mpy2rpy_pandasseries\u001b[1;34m(obj)\u001b[0m\n\u001b[0;32m    216\u001b[0m func \u001b[39m=\u001b[39m numpy2ri\u001b[39m.\u001b[39mconverter\u001b[39m.\u001b[39mpy2rpy\u001b[39m.\u001b[39mregistry[numpy\u001b[39m.\u001b[39mndarray]\n\u001b[0;32m    217\u001b[0m \u001b[39m# current conversion as performed by numpy\u001b[39;00m\n\u001b[1;32m--> 219\u001b[0m res \u001b[39m=\u001b[39m func(obj\u001b[39m.\u001b[39;49mvalues)\n\u001b[0;32m    220\u001b[0m \u001b[39mif\u001b[39;00m \u001b[39mlen\u001b[39m(obj\u001b[39m.\u001b[39mshape) \u001b[39m==\u001b[39m \u001b[39m1\u001b[39m:\n\u001b[0;32m    221\u001b[0m     \u001b[39mif\u001b[39;00m (obj\u001b[39m.\u001b[39mdtype \u001b[39m!=\u001b[39m dt_O_type):\n\u001b[0;32m    222\u001b[0m         \u001b[39m# force into an R vector\u001b[39;00m\n",
      "File \u001b[1;32m~\\AppData\\Roaming\\Python\\Python311\\site-packages\\rpy2\\robjects\\numpy2ri.py:90\u001b[0m, in \u001b[0;36mnumpy2rpy\u001b[1;34m(o)\u001b[0m\n\u001b[0;32m     88\u001b[0m \u001b[39m# Most types map onto R arrays:\u001b[39;00m\n\u001b[0;32m     89\u001b[0m \u001b[39mif\u001b[39;00m o\u001b[39m.\u001b[39mdtype\u001b[39m.\u001b[39mkind \u001b[39min\u001b[39;00m _kinds:\n\u001b[1;32m---> 90\u001b[0m     res \u001b[39m=\u001b[39m _numpyarray_to_r(o, _kinds[o\u001b[39m.\u001b[39;49mdtype\u001b[39m.\u001b[39;49mkind])\n\u001b[0;32m     91\u001b[0m \u001b[39m# R does not support unsigned types:\u001b[39;00m\n\u001b[0;32m     92\u001b[0m \u001b[39melif\u001b[39;00m o\u001b[39m.\u001b[39mdtype\u001b[39m.\u001b[39mkind \u001b[39m==\u001b[39m \u001b[39m'\u001b[39m\u001b[39mu\u001b[39m\u001b[39m'\u001b[39m:\n",
      "File \u001b[1;32m~\\AppData\\Roaming\\Python\\Python311\\site-packages\\rpy2\\robjects\\numpy2ri.py:62\u001b[0m, in \u001b[0;36m_numpyarray_to_r\u001b[1;34m(a, func)\u001b[0m\n\u001b[0;32m     58\u001b[0m \u001b[39m# TODO: no dimnames ?\u001b[39;00m\n\u001b[0;32m     59\u001b[0m \u001b[39m# TODO: optimize what is below needed/possible ?\u001b[39;00m\n\u001b[0;32m     60\u001b[0m \u001b[39m#  (other ways to create R arrays ?)\u001b[39;00m\n\u001b[0;32m     61\u001b[0m dim \u001b[39m=\u001b[39m ro\u001b[39m.\u001b[39mvectors\u001b[39m.\u001b[39mIntVector(a\u001b[39m.\u001b[39mshape)\n\u001b[1;32m---> 62\u001b[0m res \u001b[39m=\u001b[39m rinterface\u001b[39m.\u001b[39;49mbaseenv[\u001b[39m'\u001b[39;49m\u001b[39marray\u001b[39;49m\u001b[39m'\u001b[39;49m](vec, dim\u001b[39m=\u001b[39;49mdim)\n\u001b[0;32m     63\u001b[0m \u001b[39mreturn\u001b[39;00m res\n",
      "File \u001b[1;32m~\\AppData\\Roaming\\Python\\Python311\\site-packages\\rpy2\\rinterface_lib\\conversion.py:45\u001b[0m, in \u001b[0;36m_cdata_res_to_rinterface.<locals>._\u001b[1;34m(*args, **kwargs)\u001b[0m\n\u001b[0;32m     44\u001b[0m \u001b[39mdef\u001b[39;00m \u001b[39m_\u001b[39m(\u001b[39m*\u001b[39margs, \u001b[39m*\u001b[39m\u001b[39m*\u001b[39mkwargs):\n\u001b[1;32m---> 45\u001b[0m     cdata \u001b[39m=\u001b[39m function(\u001b[39m*\u001b[39;49margs, \u001b[39m*\u001b[39;49m\u001b[39m*\u001b[39;49mkwargs)\n\u001b[0;32m     46\u001b[0m     \u001b[39m# TODO: test cdata is of the expected CType\u001b[39;00m\n\u001b[0;32m     47\u001b[0m     \u001b[39mreturn\u001b[39;00m _cdata_to_rinterface(cdata)\n",
      "File \u001b[1;32m~\\AppData\\Roaming\\Python\\Python311\\site-packages\\rpy2\\rinterface.py:811\u001b[0m, in \u001b[0;36mSexpClosure.__call__\u001b[1;34m(self, *args, **kwargs)\u001b[0m\n\u001b[0;32m    806\u001b[0m call_r \u001b[39m=\u001b[39m rmemory\u001b[39m.\u001b[39mprotect(\n\u001b[0;32m    807\u001b[0m     _rinterface\u001b[39m.\u001b[39mbuild_rcall(\u001b[39mself\u001b[39m\u001b[39m.\u001b[39m__sexp__\u001b[39m.\u001b[39m_cdata, args,\n\u001b[0;32m    808\u001b[0m                             kwargs\u001b[39m.\u001b[39mitems()))\n\u001b[0;32m    809\u001b[0m call_context \u001b[39m=\u001b[39m evaluation_context\u001b[39m.\u001b[39mget()\n\u001b[0;32m    810\u001b[0m res \u001b[39m=\u001b[39m rmemory\u001b[39m.\u001b[39mprotect(\n\u001b[1;32m--> 811\u001b[0m     openrlib\u001b[39m.\u001b[39;49mrlib\u001b[39m.\u001b[39;49mR_tryEval(\n\u001b[0;32m    812\u001b[0m         call_r,\n\u001b[0;32m    813\u001b[0m         call_context\u001b[39m.\u001b[39;49m__sexp__\u001b[39m.\u001b[39;49m_cdata,\n\u001b[0;32m    814\u001b[0m         error_occured)\n\u001b[0;32m    815\u001b[0m )\n\u001b[0;32m    816\u001b[0m \u001b[39mif\u001b[39;00m error_occured[\u001b[39m0\u001b[39m]:\n\u001b[0;32m    817\u001b[0m     \u001b[39mraise\u001b[39;00m embedded\u001b[39m.\u001b[39mRRuntimeError(_rinterface\u001b[39m.\u001b[39m_geterrmessage())\n",
      "\u001b[1;31mKeyboardInterrupt\u001b[0m: "
     ]
    }
   ],
   "source": [
    "from pool_generation import poolGeneration\n",
    "from sklearn.datasets import load_wine\n",
    "from sklearn.model_selection import train_test_split\n",
    "from deslib.dcs.ola import OLA\n",
    "from deslib.dcs.lca import LCA\n",
    "from deslib.dcs.rank import Rank\n",
    "import os\n",
    "\n",
    "#Set your R diretory here\n",
    "os.environ[\"R_HOME\"] = r\"C:/Program Files/R/R-4.2.1\"\n",
    "\n",
    "#Load a dataset\n",
    "X,y = load_wine(return_X_y=True, as_frame=False)\n",
    "\n",
    "#Split in train, test and validation\n",
    "X_train, X_test, y_train, y_test = train_test_split(X, y, test_size=0.4, random_state=42)\n",
    ", , X_valid, y_valid = train_test_split(X_train, y_train, test_size=0.4, random_state=42)\n",
    "\n",
    "#Init the poolGeneretion Class\n",
    "pool = poolGeneration(nr_generation = 20)\n",
    "\n",
    "#Generete bags\n",
    "pool.generate(X_train, y_train, X_test, y_test, 20)\n",
    "\n",
    "#List of generated bags\n",
    "bags = pool.get_bags()\n",
    "\n",
    "#pool of classifiers genereted\n",
    "pool_cls = pool.get_pool()\n",
    "\n",
    "#init dynamic selection models\n",
    "lca = LCA(pool_cls)\n",
    "rank = Rank(pool_cls)\n",
    "ola = OLA(pool_cls)\n",
    "\n",
    "#Fit models\n",
    "lca.fit(X_train, y_train)\n",
    "rank.fit(X_train, y_train)\n",
    "ola.fit(X_train, y_train)\n",
    "\n",
    "#Evaluete Models\n",
    "print(lca.score(X_test, y_test))\n",
    "print(rank.score(X_test, y_test))\n",
    "print(ola.score(X_test, y_test))\n"
   ]
  }
 ],
 "metadata": {
  "kernelspec": {
   "display_name": "Python 3",
   "language": "python",
   "name": "python3"
  },
  "language_info": {
   "codemirror_mode": {
    "name": "ipython",
    "version": 3
   },
   "file_extension": ".py",
   "mimetype": "text/x-python",
   "name": "python",
   "nbconvert_exporter": "python",
   "pygments_lexer": "ipython3",
   "version": "3.11.1"
  },
  "orig_nbformat": 4,
  "vscode": {
   "interpreter": {
    "hash": "5238573367df39f7286bb46f9ff5f08f63a01a80960060ce41e3c79b190280fa"
   }
  }
 },
 "nbformat": 4,
 "nbformat_minor": 2
}
