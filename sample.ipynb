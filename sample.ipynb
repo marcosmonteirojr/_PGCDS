{
 "cells": [
  {
   "cell_type": "code",
   "execution_count": 1,
   "metadata": {},
   "outputs": [
    {
     "name": "stdout",
     "output_type": "stream",
     "text": [
      "gen\tnevals\n",
      "0  \t100   \n",
      "1  \t100   \n",
      "2  \t100   \n",
      "3  \t100   \n",
      "4  \t100   \n",
      "5  \t100   \n",
      "6  \t100   \n",
      "7  \t100   \n",
      "8  \t100   \n",
      "9  \t100   \n",
      "10 \t100   \n"
     ]
    },
    {
     "name": "stderr",
     "output_type": "stream",
     "text": [
      "C:\\Users\\mathe\\AppData\\Roaming\\Python\\Python311\\site-packages\\deap\\creator.py:138: RuntimeWarning: A class named 'FitnessMult' has already been created and it will be overwritten. Consider deleting previous creation of that class or rename it.\n",
      "  warnings.warn(\"A class named '{0}' has already been created and it \"\n",
      "C:\\Users\\mathe\\AppData\\Roaming\\Python\\Python311\\site-packages\\deap\\creator.py:138: RuntimeWarning: A class named 'Individual' has already been created and it will be overwritten. Consider deleting previous creation of that class or rename it.\n",
      "  warnings.warn(\"A class named '{0}' has already been created and it \"\n"
     ]
    },
    {
     "name": "stdout",
     "output_type": "stream",
     "text": [
      "gen\tnevals\n",
      "0  \t100   \n",
      "1  \t100   \n",
      "2  \t100   \n",
      "3  \t100   \n",
      "4  \t100   \n",
      "5  \t100   \n",
      "6  \t100   \n",
      "7  \t100   \n",
      "8  \t100   \n",
      "9  \t100   \n",
      "10 \t100   \n",
      "0.9027777777777778\n",
      "0.9166666666666666\n",
      "0.9166666666666666\n"
     ]
    }
   ],
   "source": [
    "from pool_generation import poolGeneration\n",
    "from sklearn.datasets import load_wine\n",
    "from sklearn.model_selection import train_test_split\n",
    "from deslib.dcs.ola import OLA\n",
    "from deslib.dcs.lca import LCA\n",
    "from deslib.dcs.rank import Rank\n",
    "import os\n",
    "\n",
    "#Set your R diretory here\n",
    "os.environ[\"R_HOME\"] = r\"C:/Program Files/R/R-4.2.1\"\n",
    "\n",
    "#Load a dataset\n",
    "X,y = load_wine(return_X_y=True, as_frame=False)\n",
    "\n",
    "#Split in train, test and validation\n",
    "X_train, X_test, y_train, y_test = train_test_split(X, y, test_size=0.4, random_state=42)\n",
    ", , X_valid, y_valid = train_test_split(X_train, y_train, test_size=0.4, random_state=42)\n",
    "\n",
    "#Init the poolGeneretion Class\n",
    "pool = poolGeneration(nr_generation = 20)\n",
    "\n",
    "#Generete bags\n",
    "pool.generate(X_train, y_train, X_test, y_test, 10)\n",
    "\n",
    "#List of generated bags\n",
    "bags = pool.get_bags()\n",
    "\n",
    "#pool of classifiers genereted\n",
    "pool_cls = pool.get_pool()\n",
    "\n",
    "#init dynamic selection models\n",
    "lca = LCA(pool_cls)\n",
    "rank = Rank(pool_cls)\n",
    "ola = OLA(pool_cls)\n",
    "\n",
    "#Fit models\n",
    "lca.fit(X_train, y_train)\n",
    "rank.fit(X_train, y_train)\n",
    "ola.fit(X_train, y_train)\n",
    "\n",
    "#Evaluete Models\n",
    "print(lca.score(X_test, y_test))\n",
    "print(rank.score(X_test, y_test))\n",
    "print(ola.score(X_test, y_test))\n"
   ]
  }
 ],
 "metadata": {
  "kernelspec": {
   "display_name": "Python 3",
   "language": "python",
   "name": "python3"
  },
  "language_info": {
   "codemirror_mode": {
    "name": "ipython",
    "version": 3
   },
   "file_extension": ".py",
   "mimetype": "text/x-python",
   "name": "python",
   "nbconvert_exporter": "python",
   "pygments_lexer": "ipython3",
   "version": "3.11.1"
  },
  "orig_nbformat": 4,
  "vscode": {
   "interpreter": {
    "hash": "5238573367df39f7286bb46f9ff5f08f63a01a80960060ce41e3c79b190280fa"
   }
  }
 },
 "nbformat": 4,
 "nbformat_minor": 2
}
